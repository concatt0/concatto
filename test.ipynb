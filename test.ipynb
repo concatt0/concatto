{
 "cells": [
  {
   "cell_type": "code",
   "execution_count": 2,
   "metadata": {},
   "outputs": [],
   "source": [
    "import pdfplumber\n",
    "import datetime\n",
    "import re\n",
    "pdf = pdfplumber.open(r'c:\\data\\test\\Trepeco Invoice_1124507.PDF')"
   ]
  },
  {
   "cell_type": "code",
   "execution_count": 3,
   "metadata": {},
   "outputs": [
    {
     "name": "stdout",
     "output_type": "stream",
     "text": [
      "TREPCO WEST / SNACK MAN ¦ Customer Lic. Customer No. Invoice No. Inv. Date Route Stop PG#\n",
      "¦ 300135 1124507  4/11/22 LV2T2     0 I_N_V_O_I_C_E   1\n",
      "LAS VEGAS CC ¦ Whse: 3\n",
      "3930 CIVIC CENTER DR ¦ Terms P.O. # Delivery Message\n",
      "NORTH LAS VEGAS NV 89030    0 ¦ 30 DAYS\n",
      "702 643-1405 702 566-6724 ¦\n",
      "___________________________________________¦\n",
      "Ship To Sold To Special Message Tax Code\n",
      "GOLDEN NUG LNDY SIG #9874-CHIPS GOLDEN NUGGET HOTEL & CASINO NV0001\n",
      "DEL 6AM-2P @ BRIDGER DOCK CROBLES@LDRY.COM\n",
      "129 E. FREMONT 129 E FREMONT ST Salesman Name Number\n",
      "TIM TALBOT - GN CHIP 340\n",
      "DACEOD\n",
      "LAS VEGAS NV 89101 - LAS VEGAS NV 89101 - Phone: ( )\n",
      "                                                                                                                                                         \n",
      "UPC Number Item # Qty U/M Pack Size Description Retail GP % Ext. Retail Price Allow Ext. Price\n",
      "028400355827 616623     1 CS    24 24 CAS CHEETOS JUMBO PUFFS XVL 2.125Z SZ     1.99 41.3      47.76    27.99      27.99\n",
      "028400357012 607630     1 CAS    24 24 CASE DORITOS NACHO XVL SZ 2.5Z     1.99 39.2      47.76    29.00      29.00\n",
      "028400589864 600352     1 CSE    10 10 CASE FL XL CHEETOS CRUNCHY 8.5OZ     4.09 40.1      40.90    24.49      24.49\n",
      "028400084055 605980     1 CSE    10 10 CASE FL XL MUNCHIES FLAMIN HOT 8Z     3.99 39.8      39.90    24.00      24.00\n",
      "028400084048 600402     1 CSE    10 10 CASE FL XL MUNCHIES ORIGINAL 8OZ     3.99 39.8      39.90    24.00      24.00\n",
      "028400360999 602656     1 CAS    20 20 CASE FL XVL ROLD GOLD 3.5Z     1.99 37.0      39.80    25.04      25.04\n",
      "028400516310 617415     1 CSE     7 7 CASE FL XXL DORITOS COOL RANCH 9.25Z     4.69 42.4      32.83    18.90      18.90\n",
      "028400516464 617407     1 CSE     7 7 CASE FL XXL DORITOS NACHO 9.25Z     4.69 42.4      32.83    18.90      18.90\n",
      "084114116352 602763     0 CAS     8 8 CAS KETTLE CHIPS 5Z JALAPENO     3.39    15.99\n",
      "    1              *** Above Item Out Of Stock -- Please ReOrder ***\n",
      "084114009968 602748     0 CAS     8 8 CAS KETTLE CHIPS 5Z SEA SALT & VINEGAR     3.39    15.99\n",
      "    1              *** Above Item Out Of Stock -- Please ReOrder ***\n",
      "028400355599 606962     1 CAS    24 24 CAS LAYS BBQ SUPER GRAB BAG XVL 2.25Z     1.99 39.2      47.76    29.00      29.00\n",
      "038000845512 606012     1 CAS    12 12 CAS PRINGLES 1.3Z ORIGINAL     1.19 41.2      14.28     8.39       8.39\n",
      "028400355841 607101     1 CAS    24 24 CASE RUFFLES CHEDDAR & SOUR CREAM XVL     1.99 39.2      47.76    29.00      29.00\n",
      "843571000532 603613     2 CAS     6 06 CAS POPCORN IND WHT CHED 3.5Z     2.89 40.6      34.68    10.29      20.58\n",
      "     13 Totals For: 60 SNACKS *****     279.29\n",
      "028400070980 800232     1 CSE    12 12 CASE DIP QUESO 15OZ     4.49 39.1      53.88    32.79      32.79\n",
      "      1 Totals For: 80 GROCERIES *****      32.79\n",
      " *** P & L INFORMATION *** Your Cost Your Retail Your GP $ GP % Total Qty\n",
      "60 SNACKS       279.29       466.16     186.87  40.09      13\n",
      "80 GROCERIES        32.79        53.88      21.09  39.14       1\n",
      "Total Taxable          .00          .00\n",
      "Total Non-Taxable       312.08       520.04\n",
      "Final Totals       312.08       520.04     207.96  39.99\n"
     ]
    }
   ],
   "source": [
    "print(pdf.pages[0].extract_text())"
   ]
  },
  {
   "cell_type": "code",
   "execution_count": 4,
   "metadata": {},
   "outputs": [
    {
     "name": "stdout",
     "output_type": "stream",
     "text": [
      "No\n"
     ]
    }
   ],
   "source": [
    "text = pdf.pages[0].extract_text()\n",
    "if 'PTL ONE' in text.upper():\n",
    "    print('Yes')\n",
    "else:\n",
    "    print('No')"
   ]
  },
  {
   "cell_type": "code",
   "execution_count": 5,
   "metadata": {},
   "outputs": [
    {
     "data": {
      "text/plain": [
       "'April 23 2022 @ 11:29:58'"
      ]
     },
     "execution_count": 5,
     "metadata": {},
     "output_type": "execute_result"
    }
   ],
   "source": [
    "datetime.datetime.now().strftime('%B %d %Y @ %H:%M:%S')"
   ]
  },
  {
   "cell_type": "code",
   "execution_count": 6,
   "metadata": {},
   "outputs": [
    {
     "ename": "FileNotFoundError",
     "evalue": "[Errno 2] No such file or directory: 'c:\\\\data\\\\test\\\\INVC_44943_03242022_374544_032520221721.PDF'",
     "output_type": "error",
     "traceback": [
      "\u001b[1;31m---------------------------------------------------------------------------\u001b[0m",
      "\u001b[1;31mFileNotFoundError\u001b[0m                         Traceback (most recent call last)",
      "\u001b[1;32mc:\\Users\\philh\\Python\\test.ipynb Cell 5'\u001b[0m in \u001b[0;36m<cell line: 1>\u001b[1;34m()\u001b[0m\n\u001b[1;32m----> <a href='vscode-notebook-cell:/c%3A/Users/philh/Python/test.ipynb#ch0000004?line=0'>1</a>\u001b[0m pdf \u001b[39m=\u001b[39m pdfplumber\u001b[39m.\u001b[39;49mopen(\u001b[39mr\u001b[39;49m\u001b[39m'\u001b[39;49m\u001b[39mc:\u001b[39;49m\u001b[39m\\\u001b[39;49m\u001b[39mdata\u001b[39;49m\u001b[39m\\\u001b[39;49m\u001b[39mtest\u001b[39;49m\u001b[39m\\\u001b[39;49m\u001b[39mINVC_44943_03242022_374544_032520221721.PDF\u001b[39;49m\u001b[39m'\u001b[39;49m)\n\u001b[0;32m      <a href='vscode-notebook-cell:/c%3A/Users/philh/Python/test.ipynb#ch0000004?line=1'>2</a>\u001b[0m \u001b[39mprint\u001b[39m(pdf\u001b[39m.\u001b[39mpages[\u001b[39m0\u001b[39m]\u001b[39m.\u001b[39mextract_text())\n",
      "File \u001b[1;32m~\\AppData\\Local\\Programs\\Python\\Python310\\lib\\site-packages\\pdfplumber\\pdf.py:54\u001b[0m, in \u001b[0;36mPDF.open\u001b[1;34m(cls, path_or_fp, **kwargs)\u001b[0m\n\u001b[0;32m     <a href='file:///c%3A/Users/philh/AppData/Local/Programs/Python/Python310/lib/site-packages/pdfplumber/pdf.py?line=50'>51</a>\u001b[0m \u001b[39m@classmethod\u001b[39m\n\u001b[0;32m     <a href='file:///c%3A/Users/philh/AppData/Local/Programs/Python/Python310/lib/site-packages/pdfplumber/pdf.py?line=51'>52</a>\u001b[0m \u001b[39mdef\u001b[39;00m \u001b[39mopen\u001b[39m(\u001b[39mcls\u001b[39m, path_or_fp, \u001b[39m*\u001b[39m\u001b[39m*\u001b[39mkwargs):\n\u001b[0;32m     <a href='file:///c%3A/Users/philh/AppData/Local/Programs/Python/Python310/lib/site-packages/pdfplumber/pdf.py?line=52'>53</a>\u001b[0m     \u001b[39mif\u001b[39;00m \u001b[39misinstance\u001b[39m(path_or_fp, (\u001b[39mstr\u001b[39m, pathlib\u001b[39m.\u001b[39mPath)):\n\u001b[1;32m---> <a href='file:///c%3A/Users/philh/AppData/Local/Programs/Python/Python310/lib/site-packages/pdfplumber/pdf.py?line=53'>54</a>\u001b[0m         fp \u001b[39m=\u001b[39m \u001b[39mopen\u001b[39;49m(path_or_fp, \u001b[39m\"\u001b[39;49m\u001b[39mrb\u001b[39;49m\u001b[39m\"\u001b[39;49m)\n\u001b[0;32m     <a href='file:///c%3A/Users/philh/AppData/Local/Programs/Python/Python310/lib/site-packages/pdfplumber/pdf.py?line=54'>55</a>\u001b[0m         inst \u001b[39m=\u001b[39m \u001b[39mcls\u001b[39m(fp, \u001b[39m*\u001b[39m\u001b[39m*\u001b[39mkwargs)\n\u001b[0;32m     <a href='file:///c%3A/Users/philh/AppData/Local/Programs/Python/Python310/lib/site-packages/pdfplumber/pdf.py?line=55'>56</a>\u001b[0m         inst\u001b[39m.\u001b[39mclose_file \u001b[39m=\u001b[39m fp\u001b[39m.\u001b[39mclose\n",
      "\u001b[1;31mFileNotFoundError\u001b[0m: [Errno 2] No such file or directory: 'c:\\\\data\\\\test\\\\INVC_44943_03242022_374544_032520221721.PDF'"
     ]
    }
   ],
   "source": [
    "pdf = pdfplumber.open(r'c:\\data\\test\\INVC_44943_03242022_374544_032520221721.PDF')\n",
    "print(pdf.pages[0].extract_text())"
   ]
  },
  {
   "cell_type": "code",
   "execution_count": 8,
   "metadata": {},
   "outputs": [
    {
     "data": {
      "text/plain": [
       "['LANDGNLCES',\n",
       " \"Landry's/GN\",\n",
       " 'Lake',\n",
       " 'Charles',\n",
       " 'ESS.',\n",
       " '9891',\n",
       " \"Landry's/GN\",\n",
       " 'Lake',\n",
       " 'Charles',\n",
       " 'ESS.',\n",
       " '9891']"
      ]
     },
     "execution_count": 8,
     "metadata": {},
     "output_type": "execute_result"
    }
   ],
   "source": [
    "line = \"LANDGNLCES Landry's/GN Lake Charles ESS. 9891 Landry's/GN Lake Charles ESS. 9891\"\n",
    "line.split()"
   ]
  },
  {
   "cell_type": "code",
   "execution_count": null,
   "metadata": {},
   "outputs": [],
   "source": [
    "import re\n",
    "line = \"LANDSLR LANDRY'S RESTAURANT INC. #9841 Landry's/San Luis Resort #9841\""
   ]
  },
  {
   "cell_type": "code",
   "execution_count": null,
   "metadata": {},
   "outputs": [
    {
     "data": {
      "text/plain": [
       "<re.Match object; span=(33, 38), match='#9841'>"
      ]
     },
     "execution_count": 8,
     "metadata": {},
     "output_type": "execute_result"
    }
   ],
   "source": [
    "store_re = re.compile('#\\d{4}')\n",
    "store_re.search(line)"
   ]
  },
  {
   "cell_type": "code",
   "execution_count": 9,
   "metadata": {},
   "outputs": [
    {
     "data": {
      "text/plain": [
       "['LANDGNLCES',\n",
       " \"Landry's/GN\",\n",
       " 'Lake',\n",
       " 'Charles',\n",
       " 'ESS.',\n",
       " '9891',\n",
       " \"Landry's/GN\",\n",
       " 'Lake',\n",
       " 'Charles',\n",
       " 'ESS.',\n",
       " '9891']"
      ]
     },
     "execution_count": 9,
     "metadata": {},
     "output_type": "execute_result"
    }
   ],
   "source": [
    "line.split()"
   ]
  },
  {
   "cell_type": "code",
   "execution_count": null,
   "metadata": {},
   "outputs": [
    {
     "data": {
      "text/plain": [
       "['9841', '9841']"
      ]
     },
     "execution_count": 11,
     "metadata": {},
     "output_type": "execute_result"
    }
   ],
   "source": [
    "re.findall('\\d{4}', line)"
   ]
  },
  {
   "cell_type": "code",
   "execution_count": null,
   "metadata": {},
   "outputs": [
    {
     "name": "stdout",
     "output_type": "stream",
     "text": [
      "9841\n"
     ]
    }
   ],
   "source": [
    "if re.findall('\\d{4}', line):\n",
    "    print(re.findall('\\d{4}', line)[0])"
   ]
  },
  {
   "cell_type": "code",
   "execution_count": 7,
   "metadata": {},
   "outputs": [
    {
     "name": "stdout",
     "output_type": "stream",
     "text": [
      "9821\n"
     ]
    }
   ],
   "source": [
    "line = \"LANDTXGA4950 Landry's/Pelican Bag #9821 Galveston Island Historic Pleasure Pier\"\n",
    "re.findall('\\d{4}', line)\n",
    "print(re.findall('\\d{4}', line)[-1])"
   ]
  }
 ],
 "metadata": {
  "interpreter": {
   "hash": "c2df055d128f4b9388b2eb877ec732410fec7edce003048d8acb0ccb221c65e8"
  },
  "kernelspec": {
   "display_name": "Python 3.10.2 ('.venv': venv)",
   "language": "python",
   "name": "python3"
  },
  "language_info": {
   "codemirror_mode": {
    "name": "ipython",
    "version": 3
   },
   "file_extension": ".py",
   "mimetype": "text/x-python",
   "name": "python",
   "nbconvert_exporter": "python",
   "pygments_lexer": "ipython3",
   "version": "3.10.2"
  },
  "orig_nbformat": 4
 },
 "nbformat": 4,
 "nbformat_minor": 2
}
